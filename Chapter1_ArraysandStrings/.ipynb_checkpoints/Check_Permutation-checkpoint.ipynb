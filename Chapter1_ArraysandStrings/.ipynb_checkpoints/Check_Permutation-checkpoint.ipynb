{
 "cells": [
  {
   "cell_type": "code",
   "execution_count": 1,
   "id": "d8d9bb96",
   "metadata": {},
   "outputs": [],
   "source": [
    "#Check Permutation: Given two strings, write a method to decide if one is a permutation of the other"
   ]
  },
  {
   "cell_type": "code",
   "execution_count": 2,
   "id": "689271a5",
   "metadata": {},
   "outputs": [],
   "source": [
    "#Solutions:\n",
    "#1 - Sort the string and check is strings are same or not\n",
    "#2 Count of each Charater from each word are same or not"
   ]
  },
  {
   "cell_type": "code",
   "execution_count": 7,
   "id": "751dbb7b",
   "metadata": {},
   "outputs": [],
   "source": [
    "#Sample Input\n",
    "word1_1 = 'sam'\n",
    "word1_2 = 'asm'\n",
    "word2_1 = 'god'\n",
    "word2_2 = '    dog'"
   ]
  },
  {
   "cell_type": "code",
   "execution_count": 8,
   "id": "48200be1",
   "metadata": {},
   "outputs": [],
   "source": [
    "#solution1\n",
    "def check_permutation(word1,word2):\n",
    "    if sorted(word1) == sorted(word2):\n",
    "        return 'Both words are permutation of each other'\n",
    "    else:\n",
    "        return 'Both words are NOT permutation of each other'"
   ]
  },
  {
   "cell_type": "code",
   "execution_count": 9,
   "id": "e58ee5b8",
   "metadata": {},
   "outputs": [],
   "source": [
    "#solution2\n",
    "import collections\n",
    "def check_permutation2(word1,word2):\n",
    "    if collections.Counter(word1) == collections.Counter(word2):\n",
    "        return 'Both words are permutation of each other'\n",
    "    else:\n",
    "        return 'Both words are NOT permutation of each other'"
   ]
  },
  {
   "cell_type": "code",
   "execution_count": 10,
   "id": "eef8128b",
   "metadata": {},
   "outputs": [
    {
     "name": "stdout",
     "output_type": "stream",
     "text": [
      "Both words are permutation of each other\n",
      "Both words are NOT permutation of each other\n",
      "Both words are permutation of each other\n",
      "Both words are NOT permutation of each other\n"
     ]
    }
   ],
   "source": [
    "#First printing\n",
    "print(check_permutation(word1_1,word1_2))\n",
    "print(check_permutation(word2_1,word2_2))\n",
    "#Second printing\n",
    "print(check_permutation(word1_1,word1_2))\n",
    "print(check_permutation(word2_1,word2_2))"
   ]
  },
  {
   "cell_type": "code",
   "execution_count": null,
   "id": "99f65b8b",
   "metadata": {},
   "outputs": [],
   "source": []
  }
 ],
 "metadata": {
  "kernelspec": {
   "display_name": "Python 3",
   "language": "python",
   "name": "python3"
  },
  "language_info": {
   "codemirror_mode": {
    "name": "ipython",
    "version": 3
   },
   "file_extension": ".py",
   "mimetype": "text/x-python",
   "name": "python",
   "nbconvert_exporter": "python",
   "pygments_lexer": "ipython3",
   "version": "3.8.8"
  }
 },
 "nbformat": 4,
 "nbformat_minor": 5
}
