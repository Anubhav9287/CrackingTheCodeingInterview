{
 "cells": [
  {
   "cell_type": "code",
   "execution_count": 1,
   "id": "11db5381",
   "metadata": {},
   "outputs": [],
   "source": [
    "#Is Unique: If all characters in a string are unique. What is you cannot use additional data structures"
   ]
  },
  {
   "cell_type": "code",
   "execution_count": 3,
   "id": "8af4c9b1",
   "metadata": {},
   "outputs": [],
   "source": [
    "#Solution:\n",
    "#1 - Count the each charater , push in dictonary , of already exit return\n",
    "#2 - use collections.Counter() to count the frequecy"
   ]
  },
  {
   "cell_type": "code",
   "execution_count": 16,
   "id": "f33ca57c",
   "metadata": {},
   "outputs": [],
   "source": [
    "#Solution 1:"
   ]
  },
  {
   "cell_type": "code",
   "execution_count": 17,
   "id": "4b53ecda",
   "metadata": {},
   "outputs": [],
   "source": [
    "#read and store in dictonary\n",
    "def isUnique(input):\n",
    "    temp = dict()\n",
    "    for i in input:\n",
    "        if i in temp.keys():\n",
    "            return 'Is Not Unique'\n",
    "        else:\n",
    "            temp[i] = True\n",
    "    return 'Is Unique'"
   ]
  },
  {
   "cell_type": "code",
   "execution_count": 22,
   "id": "f7617a6e",
   "metadata": {},
   "outputs": [
    {
     "name": "stdout",
     "output_type": "stream",
     "text": [
      "Is Unique\n",
      "Is Not Unique\n"
     ]
    }
   ],
   "source": [
    "#check with inputs\n",
    "print(isUnique('abcdefg'))\n",
    "print(isUnique('abbcd'))"
   ]
  },
  {
   "cell_type": "code",
   "execution_count": 23,
   "id": "26ba812e",
   "metadata": {},
   "outputs": [],
   "source": [
    "#Solution 2:"
   ]
  },
  {
   "cell_type": "code",
   "execution_count": 35,
   "id": "c061b148",
   "metadata": {},
   "outputs": [],
   "source": [
    "import collections\n",
    "\n",
    "def isUnique_2(input):\n",
    "    temp = collections.Counter(input)\n",
    "    if all(i == 1 for i in temp.values()):\n",
    "        return 'Is Unique'\n",
    "    else:\n",
    "        return 'Is Not Unique'"
   ]
  },
  {
   "cell_type": "code",
   "execution_count": 36,
   "id": "88e56267",
   "metadata": {},
   "outputs": [
    {
     "name": "stdout",
     "output_type": "stream",
     "text": [
      "Is Unique\n",
      "Is Not Unique\n"
     ]
    }
   ],
   "source": [
    "#check with inputs\n",
    "print(isUnique_2('abcdefg'))\n",
    "print(isUnique_2('abbcd'))"
   ]
  },
  {
   "cell_type": "code",
   "execution_count": 37,
   "id": "c628a078",
   "metadata": {},
   "outputs": [],
   "source": [
    "#Solution3: Without any data Structure"
   ]
  },
  {
   "cell_type": "code",
   "execution_count": 39,
   "id": "44ebba2a",
   "metadata": {},
   "outputs": [],
   "source": [
    "#first sort and check if the char is repeating itself\n",
    "def isUnique_3(input):\n",
    "    for index,val in enumerate(input):\n",
    "        if index > 0:\n",
    "            if val == input[index-1]:\n",
    "                return 'Is Not Unique'\n",
    "    return 'Is Unique'"
   ]
  },
  {
   "cell_type": "code",
   "execution_count": 41,
   "id": "e09ec693",
   "metadata": {},
   "outputs": [
    {
     "name": "stdout",
     "output_type": "stream",
     "text": [
      "Is Unique\n",
      "Is Not Unique\n"
     ]
    }
   ],
   "source": [
    "#check with inputs\n",
    "print(isUnique_3('abcdefg'))\n",
    "print(isUnique_3('abcdd'))"
   ]
  },
  {
   "cell_type": "code",
   "execution_count": null,
   "id": "f0f17b30",
   "metadata": {},
   "outputs": [],
   "source": []
  }
 ],
 "metadata": {
  "kernelspec": {
   "display_name": "Python 3",
   "language": "python",
   "name": "python3"
  },
  "language_info": {
   "codemirror_mode": {
    "name": "ipython",
    "version": 3
   },
   "file_extension": ".py",
   "mimetype": "text/x-python",
   "name": "python",
   "nbconvert_exporter": "python",
   "pygments_lexer": "ipython3",
   "version": "3.8.8"
  }
 },
 "nbformat": 4,
 "nbformat_minor": 5
}
