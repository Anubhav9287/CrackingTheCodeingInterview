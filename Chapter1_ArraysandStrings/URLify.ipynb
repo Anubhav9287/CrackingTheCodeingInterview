{
 "cells": [
  {
   "cell_type": "code",
   "execution_count": 1,
   "id": "3d390574",
   "metadata": {},
   "outputs": [],
   "source": [
    "#URLify\n",
    "#Replace all spaces in a string with \"%20\"\n",
    "#String has sufficient space at the end to hold additional characters"
   ]
  },
  {
   "cell_type": "code",
   "execution_count": 2,
   "id": "771c7480",
   "metadata": {},
   "outputs": [],
   "source": [
    "#SAMPLE:\n",
    "# Input: \"Mr John Smith    \"\n",
    "# Output: \"Mr%20John%20Smith\""
   ]
  },
  {
   "cell_type": "code",
   "execution_count": 56,
   "id": "b317bed6",
   "metadata": {},
   "outputs": [],
   "source": [
    "def replaceSpaces(string):\n",
    "    s1 = string.strip()\n",
    "    s1 = list(s1)\n",
    "    for i in range(0,len(s1)):\n",
    "        if s1[i] == ' ':\n",
    "            s1[i] = '%20'\n",
    "    print(''.join(s1))\n",
    "\n",
    "def replaceSpaces2(string):\n",
    "    return '%20'.join(string.split())"
   ]
  },
  {
   "cell_type": "code",
   "execution_count": 57,
   "id": "4d0d622a",
   "metadata": {},
   "outputs": [
    {
     "name": "stdout",
     "output_type": "stream",
     "text": [
      "Mr%20John%20Smith\n",
      "['Mr', 'John', 'Smith']\n",
      "Mr%20John%20Smith\n"
     ]
    }
   ],
   "source": [
    "s1 = \"Mr John Smith    \"\n",
    "s2 = \"Mr%20John%20Smith\"\n",
    "result = replaceSpaces(s1)\n",
    "\n",
    "print(replaceSpaces2(s1))\n"
   ]
  },
  {
   "cell_type": "code",
   "execution_count": null,
   "id": "038a0264",
   "metadata": {},
   "outputs": [],
   "source": []
  },
  {
   "cell_type": "code",
   "execution_count": null,
   "id": "79a73066",
   "metadata": {},
   "outputs": [],
   "source": []
  }
 ],
 "metadata": {
  "kernelspec": {
   "display_name": "Python 3",
   "language": "python",
   "name": "python3"
  },
  "language_info": {
   "codemirror_mode": {
    "name": "ipython",
    "version": 3
   },
   "file_extension": ".py",
   "mimetype": "text/x-python",
   "name": "python",
   "nbconvert_exporter": "python",
   "pygments_lexer": "ipython3",
   "version": "3.8.8"
  }
 },
 "nbformat": 4,
 "nbformat_minor": 5
}
